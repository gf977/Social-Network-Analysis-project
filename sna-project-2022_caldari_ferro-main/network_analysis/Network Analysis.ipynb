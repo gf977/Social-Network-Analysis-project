{
 "cells": [
  {
   "cell_type": "markdown",
   "id": "832ad754",
   "metadata": {},
   "source": [
    "## Graph analysis \n",
    "\n",
    "Degree distribution analysis;\n",
    "\n",
    "- Connected components analysis;\n",
    "\n",
    "- Path analysis;\n",
    "\n",
    "- Clustering Coefficient, Density analysis;\n",
    "\n",
    "- Centrality analysis.\n",
    "\n",
    "Moreover, the statistics computed on the crawled data must be compared with the ones of (i) ER, (ii) BA, and (iii) WS graphs having (almost) the same number of nodes and edges.\n"
   ]
  },
  {
   "cell_type": "code",
   "execution_count": 1,
   "id": "b4736d02",
   "metadata": {},
   "outputs": [],
   "source": [
    "import pandas as pd\n",
    "import csv\n",
    "import networkx as nx\n",
    "import warnings\n",
    "import pandas as pd\n",
    "import numpy as np\n",
    "import matplotlib.pyplot as plt\n",
    "import powerlaw\n",
    "warnings.filterwarnings('ignore')"
   ]
  },
  {
   "cell_type": "code",
   "execution_count": 46,
   "id": "3343bd12",
   "metadata": {},
   "outputs": [],
   "source": [
    "g = nx.read_edgelist(\"Links.csv\", delimiter=\",\", nodetype=int)"
   ]
  },
  {
   "cell_type": "code",
   "execution_count": 3,
   "id": "e9409eac",
   "metadata": {},
   "outputs": [
    {
     "data": {
      "text/plain": [
       "'Graph with 31394 nodes and 332118 edges'"
      ]
     },
     "execution_count": 3,
     "metadata": {},
     "output_type": "execute_result"
    }
   ],
   "source": [
    "nx.info(g)"
   ]
  },
  {
   "cell_type": "code",
   "execution_count": 4,
   "id": "012070f3",
   "metadata": {},
   "outputs": [
    {
     "data": {
      "text/plain": [
       "False"
      ]
     },
     "execution_count": 4,
     "metadata": {},
     "output_type": "execute_result"
    }
   ],
   "source": [
    "nx.is_directed(g)"
   ]
  },
  {
   "cell_type": "code",
   "execution_count": 5,
   "id": "5454cfb5",
   "metadata": {},
   "outputs": [
    {
     "data": {
      "text/plain": [
       "21.15805567942919"
      ]
     },
     "execution_count": 5,
     "metadata": {},
     "output_type": "execute_result"
    }
   ],
   "source": [
    "sum(dict(g.degree()).values())/float(len(g))"
   ]
  },
  {
   "cell_type": "code",
   "execution_count": 52,
   "id": "f32fb6e5",
   "metadata": {},
   "outputs": [
    {
     "data": {
      "text/plain": [
       "0.24445377990970338"
      ]
     },
     "execution_count": 52,
     "metadata": {},
     "output_type": "execute_result"
    }
   ],
   "source": [
    "nx.average_clustering(g) #average clustering coefficient for the graph"
   ]
  },
  {
   "cell_type": "code",
   "execution_count": 7,
   "id": "8e2dfd92",
   "metadata": {},
   "outputs": [
    {
     "data": {
      "text/plain": [
       "6"
      ]
     },
     "execution_count": 7,
     "metadata": {},
     "output_type": "execute_result"
    }
   ],
   "source": [
    "nx.diameter(g)"
   ]
  },
  {
   "cell_type": "code",
   "execution_count": 8,
   "id": "6662ddd2",
   "metadata": {},
   "outputs": [
    {
     "data": {
      "text/plain": [
       "0.0006739736781903351"
      ]
     },
     "execution_count": 8,
     "metadata": {},
     "output_type": "execute_result"
    }
   ],
   "source": [
    "nx.density(g)"
   ]
  },
  {
   "cell_type": "code",
   "execution_count": 9,
   "id": "22590fba",
   "metadata": {},
   "outputs": [
    {
     "data": {
      "text/plain": [
       "1"
      ]
     },
     "execution_count": 9,
     "metadata": {},
     "output_type": "execute_result"
    }
   ],
   "source": [
    "comp = nx.number_connected_components(g)\n",
    "comp"
   ]
  },
  {
   "cell_type": "code",
   "execution_count": null,
   "id": "b0010f65",
   "metadata": {},
   "outputs": [],
   "source": []
  },
  {
   "cell_type": "code",
   "execution_count": 64,
   "id": "16897e32",
   "metadata": {},
   "outputs": [
    {
     "data": {
      "image/png": "[encoded data removed]",
      "text/plain": [
       "<Figure size 1152x432 with 1 Axes>"
      ]
     },
     "metadata": {
      "needs_background": "light"
     },
     "output_type": "display_data"
    }
   ],
   "source": [
    "hist = nx.degree_histogram(g)\n",
    "plt.figure(figsize=(16, 6))\n",
    "plt.plot(range(0, len(hist)), hist, \".\")\n",
    "plt.title(\"Degree Distribution\")\n",
    "plt.xlabel(\"Degree\")\n",
    "plt.ylabel(\"#Nodes\")\n",
    "plt.loglog()\n",
    "plt.show()"
   ]
  },
  {
   "cell_type": "code",
   "execution_count": 11,
   "id": "6060b115",
   "metadata": {},
   "outputs": [],
   "source": [
    "def plot_dist(g):\n",
    "    M = nx.to_scipy_sparse_matrix(g)\n",
    "    xmin = min([d[1] for d in g.degree()])\n",
    "    indegrees = M.sum(0).A[0]\n",
    "    degree = np.bincount(indegrees)\n",
    "    fit = powerlaw.Fit(np.array(degree)+1, fit_method='KS')#, xmin=xmin, xmax=max(degree)-xmin,discrete=True)\n",
    "    \n",
    "    \n",
    "    fig = plt.figure(figsize=(16, 6)) \n",
    "    \"\"\" Plot Distribution \"\"\"\n",
    "    plt.subplot(1, 3, 1)\n",
    "    plt.plot(range(len(degree)),degree,'b.')   \n",
    "    plt.loglog()\n",
    "    plt.xlim((min(degree), max(degree)))\n",
    "    plt.xlabel('Degree')\n",
    "    plt.ylabel('P(k)')\n",
    "\n",
    "\n",
    "    \"\"\" Plot CDF \"\"\"\n",
    "    plt.subplot(1, 3, 2)\n",
    "    fit.plot_cdf()\n",
    "    plt.xlabel(\"Degree\")\n",
    "    plt.ylabel('CDF')\n",
    "\n",
    "    \"\"\" Plot CCDF \"\"\"\n",
    "    plt.subplot(1, 3, 3)\n",
    "    fit.plot_ccdf()\n",
    "    plt.ylabel('CCDF')\n",
    "    plt.xlabel('Degree')\n",
    "    plt.tight_layout()\n",
    "    plt.show()"
   ]
  },
  {
   "cell_type": "code",
   "execution_count": 12,
   "id": "9195c853",
   "metadata": {},
   "outputs": [
    {
     "name": "stdout",
     "output_type": "stream",
     "text": [
      "Calculating best minimal value for power law fit\n",
      "xmin progress: 00%\r",
      "xmin progress: 01%\r",
      "xmin progress: 02%\r",
      "xmin progress: 04%\r",
      "xmin progress: 05%\r",
      "xmin progress: 06%\r",
      "xmin progress: 08%\r",
      "xmin progress: 09%\r",
      "xmin progress: 10%\r",
      "xmin progress: 12%\r",
      "xmin progress: 13%\r",
      "xmin progress: 14%\r",
      "xmin progress: 16%\r",
      "xmin progress: 17%\r",
      "xmin progress: 18%\r",
      "xmin progress: 20%\r",
      "xmin progress: 21%\r",
      "xmin progress: 22%\r",
      "xmin progress: 24%\r",
      "xmin progress: 25%\r",
      "xmin progress: 26%\r",
      "xmin progress: 28%\r",
      "xmin progress: 29%\r",
      "xmin progress: 30%\r",
      "xmin progress: 32%\r",
      "xmin progress: 33%\r",
      "xmin progress: 34%\r",
      "xmin progress: 36%\r",
      "xmin progress: 37%\r",
      "xmin progress: 38%\r",
      "xmin progress: 40%\r",
      "xmin progress: 41%\r",
      "xmin progress: 42%\r",
      "xmin progress: 44%\r",
      "xmin progress: 45%\r",
      "xmin progress: 46%\r",
      "xmin progress: 48%\r",
      "xmin progress: 49%\r",
      "xmin progress: 50%\r",
      "xmin progress: 52%\r",
      "xmin progress: 53%\r",
      "xmin progress: 54%\r",
      "xmin progress: 56%\r",
      "xmin progress: 57%\r",
      "xmin progress: 58%\r",
      "xmin progress: 60%\r",
      "xmin progress: 61%\r",
      "xmin progress: 62%\r",
      "xmin progress: 64%\r",
      "xmin progress: 65%\r",
      "xmin progress: 66%\r",
      "xmin progress: 68%\r",
      "xmin progress: 69%\r",
      "xmin progress: 70%\r",
      "xmin progress: 72%\r",
      "xmin progress: 73%\r",
      "xmin progress: 74%\r",
      "xmin progress: 76%\r",
      "xmin progress: 77%\r",
      "xmin progress: 78%\r",
      "xmin progress: 80%\r",
      "xmin progress: 81%\r",
      "xmin progress: 82%\r",
      "xmin progress: 84%\r",
      "xmin progress: 85%\r",
      "xmin progress: 86%\r",
      "xmin progress: 88%\r",
      "xmin progress: 89%\r",
      "xmin progress: 90%\r",
      "xmin progress: 92%\r",
      "xmin progress: 93%\r",
      "xmin progress: 94%\r",
      "xmin progress: 96%\r",
      "xmin progress: 97%\r",
      "xmin progress: 98%\r"
     ]
    },
    {
     "data": {
      "image/png": "[encoded data removed]",
      "text/plain": [
       "<Figure size 1152x432 with 3 Axes>"
      ]
     },
     "metadata": {
      "needs_background": "light"
     },
     "output_type": "display_data"
    }
   ],
   "source": [
    "plot_dist(g)"
   ]
  },
  {
   "cell_type": "code",
   "execution_count": 62,
   "id": "23c16b94",
   "metadata": {
    "scrolled": true
   },
   "outputs": [
    {
     "name": "stdout",
     "output_type": "stream",
     "text": [
      "Node 1 => Degree: 1410, Clustering_coeff: 0.0118\n",
      "Node 2 => Degree: 2912, Clustering_coeff: 0.0027\n",
      "Node 3 => Degree: 2944, Clustering_coeff: 0.0028\n",
      "Node 4 => Degree: 2987, Clustering_coeff: 0.0021\n",
      "Node 5 => Degree: 930, Clustering_coeff: 0.001\n",
      "Node 6 => Degree: 437, Clustering_coeff: 0.0195\n",
      "Node 7 => Degree: 2495, Clustering_coeff: 0.0047\n",
      "Node 8 => Degree: 1491, Clustering_coeff: 0.0008\n",
      "Node 9 => Degree: 856, Clustering_coeff: 0.0028\n",
      "Node 10 => Degree: 2416, Clustering_coeff: 0.0035\n",
      "Node 11 => Degree: 2969, Clustering_coeff: 0.0012\n",
      "Node 12 => Degree: 352, Clustering_coeff: 0.0017\n",
      "Node 13 => Degree: 2328, Clustering_coeff: 0.0004\n",
      "Node 14 => Degree: 105, Clustering_coeff: 0.0037\n",
      "Node 15 => Degree: 2920, Clustering_coeff: 0.0042\n",
      "Node 16 => Degree: 727, Clustering_coeff: 0.0173\n",
      "Node 17 => Degree: 2079, Clustering_coeff: 0.0166\n",
      "Node 18 => Degree: 2158, Clustering_coeff: 0.0029\n",
      "Node 19 => Degree: 2879, Clustering_coeff: 0.0013\n",
      "Node 20 => Degree: 2112, Clustering_coeff: 0.0051\n",
      "Node 21 => Degree: 710, Clustering_coeff: 0.0014\n",
      "Node 22 => Degree: 1673, Clustering_coeff: 0.0176\n",
      "Node 23 => Degree: 694, Clustering_coeff: 0.0132\n",
      "Node 24 => Degree: 136, Clustering_coeff: 0.0252\n",
      "Node 25 => Degree: 2608, Clustering_coeff: 0.004\n",
      "Node 26 => Degree: 1652, Clustering_coeff: 0.0029\n",
      "Node 27 => Degree: 425, Clustering_coeff: 0.0041\n",
      "Node 28 => Degree: 598, Clustering_coeff: 0.0137\n",
      "Node 29 => Degree: 90, Clustering_coeff: 0.0397\n",
      "Node 30 => Degree: 1745, Clustering_coeff: 0.0059\n",
      "Node 31 => Degree: 283, Clustering_coeff: 0.0206\n",
      "Node 32 => Degree: 915, Clustering_coeff: 0.0062\n",
      "Node 33 => Degree: 511, Clustering_coeff: 0.0006\n",
      "Node 34 => Degree: 821, Clustering_coeff: 0.0116\n",
      "Node 35 => Degree: 191, Clustering_coeff: 0.0151\n",
      "Node 36 => Degree: 2526, Clustering_coeff: 0.0051\n",
      "Node 37 => Degree: 678, Clustering_coeff: 0.0039\n"
     ]
    }
   ],
   "source": [
    "#list of the degree of the 37 most followed users\n",
    "l = 0\n",
    "for i in range(1,38):\n",
    "    print('Node {} => Degree: {}, Clustering_coeff: {}'.format(i, g.degree(i), round(nx.clustering(g, nodes=i), 4)))\n",
    "    l = l+g.degree(i)"
   ]
  },
  {
   "cell_type": "code",
   "execution_count": 37,
   "id": "2fb011be",
   "metadata": {},
   "outputs": [
    {
     "data": {
      "text/plain": [
       "1453.054054054054"
      ]
     },
     "execution_count": 37,
     "metadata": {},
     "output_type": "execute_result"
    }
   ],
   "source": [
    "l/37"
   ]
  },
  {
   "cell_type": "markdown",
   "id": "1de07663",
   "metadata": {},
   "source": [
    "ego = nx.ego_graph(g, 1) #ego network of the node\n",
    "nx.draw(ego, with_labels=True)"
   ]
  },
  {
   "cell_type": "markdown",
   "id": "2bf781b0",
   "metadata": {},
   "source": [
    "## Comparison with other models\n",
    "\n",
    "### ER model\n",
    "\n",
    "To compare the ER graph with our graph we use the same parameters of the original graph which are a density equals to 0.000673 and the number of nodes 31522."
   ]
  },
  {
   "cell_type": "code",
   "execution_count": 53,
   "id": "84abbd4b",
   "metadata": {},
   "outputs": [],
   "source": [
    "p = nx.density(g)\n",
    "n = nx.number_of_nodes(g)\n",
    "er = nx.erdos_renyi_graph(n, p) #graph wiht the same configuration"
   ]
  },
  {
   "cell_type": "code",
   "execution_count": 54,
   "id": "9a05ccb9",
   "metadata": {},
   "outputs": [
    {
     "name": "stdout",
     "output_type": "stream",
     "text": [
      "Original graph: Graph with 31394 nodes and 332118 edges\n",
      "ER graph: Graph with 31394 nodes and 332759 edges, Density: 0.0006739736781903351\n"
     ]
    }
   ],
   "source": [
    "print('Original graph: {}\\nER graph: {}, Density: {}'.format(nx.info(g), nx.info(er), p))"
   ]
  },
  {
   "cell_type": "code",
   "execution_count": 55,
   "id": "91c6d03f",
   "metadata": {},
   "outputs": [
    {
     "data": {
      "text/plain": [
       "21.198891507931453"
      ]
     },
     "execution_count": 55,
     "metadata": {},
     "output_type": "execute_result"
    }
   ],
   "source": [
    "avg_d = 2*nx.number_of_edges(er)/nx.number_of_nodes(er)\n",
    "avg_d"
   ]
  },
  {
   "cell_type": "code",
   "execution_count": 16,
   "id": "e2554a60",
   "metadata": {},
   "outputs": [
    {
     "data": {
      "text/plain": [
       "0.0006768772651689309"
      ]
     },
     "execution_count": 16,
     "metadata": {},
     "output_type": "execute_result"
    }
   ],
   "source": [
    "nx.average_clustering(er) #the same as p, density set in the model parameters"
   ]
  },
  {
   "cell_type": "markdown",
   "id": "13b793b4",
   "metadata": {},
   "source": [
    "The regime of the network is connected"
   ]
  },
  {
   "cell_type": "code",
   "execution_count": 17,
   "id": "a1f8cb5a",
   "metadata": {},
   "outputs": [
    {
     "data": {
      "text/plain": [
       "3.185322036057845e-05"
      ]
     },
     "execution_count": 17,
     "metadata": {},
     "output_type": "execute_result"
    }
   ],
   "source": [
    "pc = 1/nx.number_of_nodes(er)\n",
    "pc"
   ]
  },
  {
   "cell_type": "code",
   "execution_count": 18,
   "id": "6685ce95",
   "metadata": {},
   "outputs": [
    {
     "data": {
      "text/plain": [
       "True"
      ]
     },
     "execution_count": 18,
     "metadata": {},
     "output_type": "execute_result"
    }
   ],
   "source": [
    "p>pc"
   ]
  },
  {
   "cell_type": "code",
   "execution_count": 19,
   "id": "502212b9",
   "metadata": {},
   "outputs": [
    {
     "data": {
      "text/plain": [
       "0.0003298200952677312"
      ]
     },
     "execution_count": 19,
     "metadata": {},
     "output_type": "execute_result"
    }
   ],
   "source": [
    "pc2 = np.log(nx.number_of_nodes(er))/nx.number_of_nodes(er)\n",
    "pc2"
   ]
  },
  {
   "cell_type": "code",
   "execution_count": 56,
   "id": "7b0fb211",
   "metadata": {},
   "outputs": [
    {
     "data": {
      "text/plain": [
       "True"
      ]
     },
     "execution_count": 56,
     "metadata": {},
     "output_type": "execute_result"
    }
   ],
   "source": [
    "avg_d>np.log(nx.number_of_nodes(er))"
   ]
  },
  {
   "cell_type": "code",
   "execution_count": 20,
   "id": "1e55ff7a",
   "metadata": {},
   "outputs": [
    {
     "data": {
      "text/plain": [
       "True"
      ]
     },
     "execution_count": 20,
     "metadata": {},
     "output_type": "execute_result"
    }
   ],
   "source": [
    "p>pc2"
   ]
  },
  {
   "cell_type": "markdown",
   "id": "cbf150d0",
   "metadata": {},
   "source": [
    "### BA model"
   ]
  },
  {
   "cell_type": "code",
   "execution_count": 57,
   "id": "73dc1dee",
   "metadata": {},
   "outputs": [],
   "source": [
    "m = int(nx.number_of_edges(g)/nx.number_of_nodes(g))\n",
    "ba = nx.barabasi_albert_graph(n, m)"
   ]
  },
  {
   "cell_type": "code",
   "execution_count": 58,
   "id": "341cbc15",
   "metadata": {},
   "outputs": [
    {
     "name": "stdout",
     "output_type": "stream",
     "text": [
      "Original graph: Graph with 31394 nodes and 332118 edges\n",
      "BA graph: Graph with 31394 nodes and 313840 edges, Number of edges for the preferential attachement (m): 10\n"
     ]
    }
   ],
   "source": [
    "print('Original graph: {}\\nBA graph: {}, Number of edges for the preferential attachement (m): {}'.format(nx.info(g), nx.info(ba), m))"
   ]
  },
  {
   "cell_type": "code",
   "execution_count": 59,
   "id": "bda18433",
   "metadata": {},
   "outputs": [
    {
     "data": {
      "text/plain": [
       "0.0006368817684174142"
      ]
     },
     "execution_count": 59,
     "metadata": {},
     "output_type": "execute_result"
    }
   ],
   "source": [
    "nx.density(ba)"
   ]
  },
  {
   "cell_type": "code",
   "execution_count": 23,
   "id": "0ededae8",
   "metadata": {},
   "outputs": [
    {
     "data": {
      "text/plain": [
       "1147"
      ]
     },
     "execution_count": 23,
     "metadata": {},
     "output_type": "execute_result"
    }
   ],
   "source": [
    "k_max = max(dict(ba.degree()).values())#degree of the largest hub\n",
    "k_max"
   ]
  },
  {
   "cell_type": "code",
   "execution_count": 24,
   "id": "fcc61c99",
   "metadata": {},
   "outputs": [
    {
     "data": {
      "text/plain": [
       "0.03653564375358349"
      ]
     },
     "execution_count": 24,
     "metadata": {},
     "output_type": "execute_result"
    }
   ],
   "source": [
    "ratio = k_max/nx.number_of_nodes(ba)\n",
    "ratio"
   ]
  },
  {
   "cell_type": "code",
   "execution_count": 25,
   "id": "60a149f1",
   "metadata": {},
   "outputs": [
    {
     "data": {
      "text/plain": [
       "19.993629355927883"
      ]
     },
     "execution_count": 25,
     "metadata": {},
     "output_type": "execute_result"
    }
   ],
   "source": [
    "sum(dict(ba.degree()).values())/float(len(ba)) #avg degree"
   ]
  },
  {
   "cell_type": "code",
   "execution_count": 26,
   "id": "3549aaa3",
   "metadata": {},
   "outputs": [
    {
     "data": {
      "text/plain": [
       "0.004632109775724173"
      ]
     },
     "execution_count": 26,
     "metadata": {},
     "output_type": "execute_result"
    }
   ],
   "source": [
    "nx.average_clustering(ba)"
   ]
  },
  {
   "cell_type": "markdown",
   "id": "808f29b3",
   "metadata": {},
   "source": [
    "### Degree distribution comparison"
   ]
  },
  {
   "cell_type": "code",
   "execution_count": 27,
   "id": "b07df571",
   "metadata": {},
   "outputs": [
    {
     "data": {
      "image/png": "[encoded data removed]",
      "text/plain": [
       "<Figure size 1440x432 with 6 Axes>"
      ]
     },
     "metadata": {
      "needs_background": "light"
     },
     "output_type": "display_data"
    }
   ],
   "source": [
    "hist_er = nx.degree_histogram(er)\n",
    "hist = nx.degree_histogram(g)\n",
    "hist_b = nx.degree_histogram(ba)\n",
    "\n",
    "fig = plt.figure(figsize=(20, 6)) \n",
    "plt.subplot(2, 3, 1)\n",
    "plt.plot(range(0, len(hist)), hist, \".\")\n",
    "plt.title(\"Degree Distribution Real Graph\")\n",
    "plt.ylabel(\"#Nodes\")\n",
    "plt.loglog()\n",
    "\n",
    "plt.subplot(2, 3, 2)\n",
    "plt.plot(range(0, len(hist_er)), hist_er, \".\", color = 'red')\n",
    "plt.title(\"Degree Distribution ER Model\")\n",
    "plt.loglog()\n",
    "\n",
    "plt.subplot(2, 3, 3)\n",
    "plt.plot(range(0, len(hist_b)), hist_b, \".\",color = 'green')  \n",
    "plt.title(\"Degree Distribution BA Model\")\n",
    "plt.loglog()\n",
    "\n",
    "plt.subplot(2, 3, 4)\n",
    "plt.plot(range(0, len(hist)), hist, \".\")\n",
    "plt.xlabel(\"Degree\")\n",
    "plt.ylabel(\"#Nodes\")\n",
    "\n",
    "plt.subplot(2, 3, 5)\n",
    "plt.plot(range(0, len(hist_er)), hist_er, \".\",color = 'red')\n",
    "plt.xlabel(\"Degree\")\n",
    "\n",
    "plt.subplot(2, 3, 6)\n",
    "plt.plot(range(0, len(hist_b)), hist_b, \".\",color = 'green')\n",
    "plt.xlabel(\"Degree\")\n",
    "\n",
    "plt.show()"
   ]
  },
  {
   "cell_type": "markdown",
   "id": "0ae530c0",
   "metadata": {},
   "source": [
    "### Watts strogatz model"
   ]
  },
  {
   "cell_type": "code",
   "execution_count": 28,
   "id": "0e140575",
   "metadata": {},
   "outputs": [],
   "source": [
    "ws = nx.watts_strogatz_graph(g.number_of_nodes(), k=40, p=0)"
   ]
  },
  {
   "cell_type": "code",
   "execution_count": 29,
   "id": "d8d7e38f",
   "metadata": {},
   "outputs": [
    {
     "name": "stdout",
     "output_type": "stream",
     "text": [
      "Global clustering: 0.7307692307694483\n"
     ]
    }
   ],
   "source": [
    "print(f\"Global clustering: {nx.average_clustering(ws)}\")"
   ]
  },
  {
   "cell_type": "code",
   "execution_count": 30,
   "id": "543a072d",
   "metadata": {},
   "outputs": [],
   "source": [
    "# network generators 2 (small-world) ER\n",
    "ws2 = nx.watts_strogatz_graph(g.number_of_nodes(), k=40, p=1)"
   ]
  },
  {
   "cell_type": "code",
   "execution_count": 31,
   "id": "62bbb328",
   "metadata": {},
   "outputs": [
    {
     "name": "stdout",
     "output_type": "stream",
     "text": [
      "Global clustering: 0.0012385197015696426\n"
     ]
    }
   ],
   "source": [
    "print(f\"Global clustering: {nx.average_clustering(ws2)}\")"
   ]
  },
  {
   "cell_type": "code",
   "execution_count": 32,
   "id": "f17b4c7f",
   "metadata": {},
   "outputs": [],
   "source": [
    "# network generators 2 (small-world)\n",
    "ws3 = nx.watts_strogatz_graph(g.number_of_nodes(), k=40, p=0.05)"
   ]
  },
  {
   "cell_type": "code",
   "execution_count": 33,
   "id": "6a0d77cb",
   "metadata": {},
   "outputs": [
    {
     "name": "stdout",
     "output_type": "stream",
     "text": [
      "Global clustering: 0.6270626701111505\n"
     ]
    }
   ],
   "source": [
    "print(f\"Global clustering: {nx.average_clustering(ws3)}\")"
   ]
  }
 ],
 "metadata": {
  "kernelspec": {
   "display_name": "Python 3",
   "language": "python",
   "name": "python3"
  },
  "language_info": {
   "codemirror_mode": {
    "name": "ipython",
    "version": 3
   },
   "file_extension": ".py",
   "mimetype": "text/x-python",
   "name": "python",
   "nbconvert_exporter": "python",
   "pygments_lexer": "ipython3",
   "version": "3.8.5"
  }
 },
 "nbformat": 4,
 "nbformat_minor": 5
}
